{
 "cells": [
  {
   "cell_type": "markdown",
   "id": "96012bf4",
   "metadata": {},
   "source": [
    "# Laboratorio #3\n",
    "---\n",
    "Nancy Mazariegos 22513\n",
    "\n",
    "Santiago Pereira 22318\n",
    "\n",
    "---"
   ]
  },
  {
   "cell_type": "code",
   "execution_count": null,
   "id": "fc33cfd4",
   "metadata": {},
   "outputs": [],
   "source": [
    "# Importaciones y parámetros definidos\n",
    "import numpy as np\n",
    "import matplotlib.pyplot as plt\n",
    "from scipy.integrate import odeint\n",
    "\n",
    "N = 10000 # Poblacion\n",
    "I0 = 10 # Infectados iniciales\n",
    "R0 = 0\n",
    "S0 = N - I0 - R0\n",
    "beta = 0.35\n",
    "gamma = 0.1\n",
    "days = 160\n",
    "t = np.linspace(0, days, days)"
   ]
  }
 ],
 "metadata": {
  "kernelspec": {
   "display_name": "Python 3",
   "language": "python",
   "name": "python3"
  },
  "language_info": {
   "name": "python",
   "version": "3.11.11"
  }
 },
 "nbformat": 4,
 "nbformat_minor": 5
}
